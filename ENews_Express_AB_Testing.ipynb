{
 "cells": [
  {
   "cell_type": "markdown",
   "id": "6yDxo9u0d9Na",
   "metadata": {
    "id": "6yDxo9u0d9Na"
   },
   "source": [
    "# Project Business Statistics: E-news Express"
   ]
  },
  {
   "cell_type": "markdown",
   "id": "SrLd-ICEmPSD",
   "metadata": {
    "id": "SrLd-ICEmPSD"
   },
   "source": [
    "## Problem Statement and Objectives"
   ]
  },
  {
   "cell_type": "markdown",
   "id": "9Vt1PLLqmXNn",
   "metadata": {
    "id": "9Vt1PLLqmXNn"
   },
   "source": [
    "**Background:** \n",
    "\n",
    "An online news portal aims to expand its business by acquiring new subscribers. The design team of the company has created a new landing page. It is necessary to decide whether the new landing page is more effective to gather new subscribers. \n",
    "\n",
    "\n",
    "**Objective:**\n",
    "* Explore the dataset and extract insights using Exploratory Data Analysis.\n",
    "* Do the users spend more time on the new landing page than the old landing page?\n",
    "* Is the conversion rate (the proportion of users who visit the landing page and get converted) for the new page greater than the conversion rate for the old page?\n",
    "* Does the converted status depend on the preferred language? \n",
    "* Is the mean time spent on the new page same for the different language users?\n",
    "* Significance level of 0.05 for all tests.\n",
    "\n",
    "**Data Dictionary:**\n",
    "\n",
    "The dataset consists in a randomly selected 100 users divided equally into two groups. The old landing page is served to the first group (control group) and the new landing page is served to the second group (treatment group). Various data about the customers in both groups are collected in 'abtest.csv'.\n",
    "\n",
    "* user_id - This represents the user ID of the person visiting the website.\n",
    "* group - This represents whether the user belongs to the first group (control) or the second group (treatment).\n",
    "* landing_page - This represents whether the landing page is new or old.\n",
    "* time_spent_on_the_page - This represents the time (in minutes) spent by the user on the landing page.\n",
    "* converted - This represents whether the user gets converted to a subscriber of the news portal or not.\n",
    "* language_preferred - This represents the language chosen by the user to view the landing page."
   ]
  },
  {
   "cell_type": "markdown",
   "id": "a6a3d218",
   "metadata": {
    "id": "a6a3d218"
   },
   "source": [
    "## Import libraries"
   ]
  },
  {
   "cell_type": "code",
   "execution_count": 1,
   "id": "658c5dec",
   "metadata": {
    "id": "658c5dec"
   },
   "outputs": [],
   "source": [
    "import numpy as np\n",
    "import pandas as pd\n",
    "from matplotlib import pyplot as plt\n",
    "import seaborn as sns\n",
    "import scipy.stats as stats\n",
    "%matplotlib inline \n",
    "import warnings\n",
    "warnings.filterwarnings('ignore') "
   ]
  },
  {
   "cell_type": "markdown",
   "id": "9d75cfa2",
   "metadata": {
    "id": "9d75cfa2"
   },
   "source": [
    "## 1. Explore the dataset and extract insights using Exploratory Data Analysis."
   ]
  },
  {
   "cell_type": "markdown",
   "id": "27201534",
   "metadata": {
    "id": "27201534"
   },
   "source": [
    "### Exploratory Data Analysis \n",
    "\n",
    "1.\tImporting Data\n",
    "2.\tVariable Identification\n",
    "3.  Variable Transformation/Feature Creation\n",
    "4.  Missing value detection\n",
    "5.\tUnivariate Analysis\n",
    "6.\tBivariate Analysis"
   ]
  },
  {
   "cell_type": "markdown",
   "id": "0f891180",
   "metadata": {},
   "source": [
    "### Reading the Data into a DataFrame"
   ]
  },
  {
   "cell_type": "code",
   "execution_count": 2,
   "id": "6f2d19c3",
   "metadata": {},
   "outputs": [],
   "source": [
    "df= pd.read_csv('abtest.csv')"
   ]
  },
  {
   "cell_type": "markdown",
   "id": "a4e471fd",
   "metadata": {
    "id": "a4e471fd"
   },
   "source": [
    "### Data Overview"
   ]
  },
  {
   "cell_type": "code",
   "execution_count": 3,
   "id": "e1ad11d4",
   "metadata": {
    "id": "e1ad11d4",
    "scrolled": false
   },
   "outputs": [
    {
     "data": {
      "text/html": [
       "<div>\n",
       "<style scoped>\n",
       "    .dataframe tbody tr th:only-of-type {\n",
       "        vertical-align: middle;\n",
       "    }\n",
       "\n",
       "    .dataframe tbody tr th {\n",
       "        vertical-align: top;\n",
       "    }\n",
       "\n",
       "    .dataframe thead th {\n",
       "        text-align: right;\n",
       "    }\n",
       "</style>\n",
       "<table border=\"1\" class=\"dataframe\">\n",
       "  <thead>\n",
       "    <tr style=\"text-align: right;\">\n",
       "      <th></th>\n",
       "      <th>user_id</th>\n",
       "      <th>group</th>\n",
       "      <th>landing_page</th>\n",
       "      <th>time_spent_on_the_page</th>\n",
       "      <th>converted</th>\n",
       "      <th>language_preferred</th>\n",
       "    </tr>\n",
       "  </thead>\n",
       "  <tbody>\n",
       "    <tr>\n",
       "      <th>0</th>\n",
       "      <td>546592</td>\n",
       "      <td>control</td>\n",
       "      <td>old</td>\n",
       "      <td>3.48</td>\n",
       "      <td>no</td>\n",
       "      <td>Spanish</td>\n",
       "    </tr>\n",
       "    <tr>\n",
       "      <th>1</th>\n",
       "      <td>546468</td>\n",
       "      <td>treatment</td>\n",
       "      <td>new</td>\n",
       "      <td>7.13</td>\n",
       "      <td>yes</td>\n",
       "      <td>English</td>\n",
       "    </tr>\n",
       "    <tr>\n",
       "      <th>2</th>\n",
       "      <td>546462</td>\n",
       "      <td>treatment</td>\n",
       "      <td>new</td>\n",
       "      <td>4.40</td>\n",
       "      <td>no</td>\n",
       "      <td>Spanish</td>\n",
       "    </tr>\n",
       "    <tr>\n",
       "      <th>3</th>\n",
       "      <td>546567</td>\n",
       "      <td>control</td>\n",
       "      <td>old</td>\n",
       "      <td>3.02</td>\n",
       "      <td>no</td>\n",
       "      <td>French</td>\n",
       "    </tr>\n",
       "    <tr>\n",
       "      <th>4</th>\n",
       "      <td>546459</td>\n",
       "      <td>treatment</td>\n",
       "      <td>new</td>\n",
       "      <td>4.75</td>\n",
       "      <td>yes</td>\n",
       "      <td>Spanish</td>\n",
       "    </tr>\n",
       "  </tbody>\n",
       "</table>\n",
       "</div>"
      ],
      "text/plain": [
       "   user_id      group landing_page  time_spent_on_the_page converted  \\\n",
       "0   546592    control          old                    3.48        no   \n",
       "1   546468  treatment          new                    7.13       yes   \n",
       "2   546462  treatment          new                    4.40        no   \n",
       "3   546567    control          old                    3.02        no   \n",
       "4   546459  treatment          new                    4.75       yes   \n",
       "\n",
       "  language_preferred  \n",
       "0            Spanish  \n",
       "1            English  \n",
       "2            Spanish  \n",
       "3             French  \n",
       "4            Spanish  "
      ]
     },
     "execution_count": 3,
     "metadata": {},
     "output_type": "execute_result"
    }
   ],
   "source": [
    "df.head() #Check out the first 5 values of the dataset."
   ]
  },
  {
   "cell_type": "markdown",
   "id": "d458e01f",
   "metadata": {},
   "source": [
    "**Observations:** \n",
    "* Data in each row corresponds to a user visiting the website. \n",
    "* The columns 'group' and 'landind_page' feature the same information, wheter the user belongs to the control group and therefore the landing page is the old one, or the user belongs to the treatment group and the landing page corresponds to the new one. We can double-check if this assumpt is correct. If it is, we can use both columns indistinctly when performing our analysis. "
   ]
  },
  {
   "cell_type": "code",
   "execution_count": 4,
   "id": "3536e256",
   "metadata": {
    "scrolled": true
   },
   "outputs": [
    {
     "data": {
      "text/html": [
       "<div>\n",
       "<style scoped>\n",
       "    .dataframe tbody tr th:only-of-type {\n",
       "        vertical-align: middle;\n",
       "    }\n",
       "\n",
       "    .dataframe tbody tr th {\n",
       "        vertical-align: top;\n",
       "    }\n",
       "\n",
       "    .dataframe thead th {\n",
       "        text-align: right;\n",
       "    }\n",
       "</style>\n",
       "<table border=\"1\" class=\"dataframe\">\n",
       "  <thead>\n",
       "    <tr style=\"text-align: right;\">\n",
       "      <th>group</th>\n",
       "      <th>control</th>\n",
       "      <th>treatment</th>\n",
       "    </tr>\n",
       "    <tr>\n",
       "      <th>landing_page</th>\n",
       "      <th></th>\n",
       "      <th></th>\n",
       "    </tr>\n",
       "  </thead>\n",
       "  <tbody>\n",
       "    <tr>\n",
       "      <th>new</th>\n",
       "      <td>0</td>\n",
       "      <td>50</td>\n",
       "    </tr>\n",
       "    <tr>\n",
       "      <th>old</th>\n",
       "      <td>50</td>\n",
       "      <td>0</td>\n",
       "    </tr>\n",
       "  </tbody>\n",
       "</table>\n",
       "</div>"
      ],
      "text/plain": [
       "group         control  treatment\n",
       "landing_page                    \n",
       "new                 0         50\n",
       "old                50          0"
      ]
     },
     "execution_count": 4,
     "metadata": {},
     "output_type": "execute_result"
    }
   ],
   "source": [
    "pd.crosstab(index = df.landing_page, columns = df.group) \n",
    "#Crosstab landing_page and group to double-check if they have matching values."
   ]
  },
  {
   "cell_type": "markdown",
   "id": "e5ed96de",
   "metadata": {},
   "source": [
    "**Observation:** The columns 'group' and 'landind_page' feature the same information. We can use both columns indistinctly when performing our analysis."
   ]
  },
  {
   "cell_type": "code",
   "execution_count": 5,
   "id": "8db68ed8",
   "metadata": {
    "scrolled": false
   },
   "outputs": [
    {
     "data": {
      "text/plain": [
       "(100, 6)"
      ]
     },
     "execution_count": 5,
     "metadata": {},
     "output_type": "execute_result"
    }
   ],
   "source": [
    "df.shape #Check the shape of the dataset."
   ]
  },
  {
   "cell_type": "markdown",
   "id": "b3411f77",
   "metadata": {},
   "source": [
    "**Observations:** The dataset contains 100 rows and 6 columns."
   ]
  },
  {
   "cell_type": "code",
   "execution_count": 6,
   "id": "3d710efc",
   "metadata": {
    "scrolled": true
   },
   "outputs": [
    {
     "name": "stdout",
     "output_type": "stream",
     "text": [
      "<class 'pandas.core.frame.DataFrame'>\n",
      "RangeIndex: 100 entries, 0 to 99\n",
      "Data columns (total 6 columns):\n",
      " #   Column                  Non-Null Count  Dtype  \n",
      "---  ------                  --------------  -----  \n",
      " 0   user_id                 100 non-null    int64  \n",
      " 1   group                   100 non-null    object \n",
      " 2   landing_page            100 non-null    object \n",
      " 3   time_spent_on_the_page  100 non-null    float64\n",
      " 4   converted               100 non-null    object \n",
      " 5   language_preferred      100 non-null    object \n",
      "dtypes: float64(1), int64(1), object(4)\n",
      "memory usage: 4.8+ KB\n"
     ]
    }
   ],
   "source": [
    "df.info() #Check data types."
   ]
  },
  {
   "cell_type": "markdown",
   "id": "ee9f24e3",
   "metadata": {},
   "source": [
    "**Observations:**\n",
    "* There are 100 entries, with an index range of 0 to 99.\n",
    "* There are 6 columns, two of them contain numerical values ('user_id' and 'time_spent_on_the_page', int64 and float64 respectively), and the other four have object data type. We will need to convert the latters into category data type to reduces the storing space, and give a specific data type to the variables before moving forward with EDA and calculations.\n",
    "* Therfore there are no nulls."
   ]
  },
  {
   "cell_type": "code",
   "execution_count": 7,
   "id": "2ce7ee3a",
   "metadata": {},
   "outputs": [],
   "source": [
    "#Data type conversion\n",
    "df.group = df.group.astype('category')\n",
    "df.landing_page = df.landing_page.astype('category')\n",
    "df.converted = df.converted.astype('category')\n",
    "df.language_preferred = df.language_preferred.astype('category')"
   ]
  },
  {
   "cell_type": "code",
   "execution_count": 8,
   "id": "000a3f26",
   "metadata": {},
   "outputs": [
    {
     "name": "stdout",
     "output_type": "stream",
     "text": [
      "<class 'pandas.core.frame.DataFrame'>\n",
      "RangeIndex: 100 entries, 0 to 99\n",
      "Data columns (total 6 columns):\n",
      " #   Column                  Non-Null Count  Dtype   \n",
      "---  ------                  --------------  -----   \n",
      " 0   user_id                 100 non-null    int64   \n",
      " 1   group                   100 non-null    category\n",
      " 2   landing_page            100 non-null    category\n",
      " 3   time_spent_on_the_page  100 non-null    float64 \n",
      " 4   converted               100 non-null    category\n",
      " 5   language_preferred      100 non-null    category\n",
      "dtypes: category(4), float64(1), int64(1)\n",
      "memory usage: 2.6 KB\n"
     ]
    }
   ],
   "source": [
    "df.info() #Check again the data type after doing the conversion."
   ]
  },
  {
   "cell_type": "code",
   "execution_count": 9,
   "id": "80ada878",
   "metadata": {
    "scrolled": true
   },
   "outputs": [
    {
     "data": {
      "text/html": [
       "<div>\n",
       "<style scoped>\n",
       "    .dataframe tbody tr th:only-of-type {\n",
       "        vertical-align: middle;\n",
       "    }\n",
       "\n",
       "    .dataframe tbody tr th {\n",
       "        vertical-align: top;\n",
       "    }\n",
       "\n",
       "    .dataframe thead th {\n",
       "        text-align: right;\n",
       "    }\n",
       "</style>\n",
       "<table border=\"1\" class=\"dataframe\">\n",
       "  <thead>\n",
       "    <tr style=\"text-align: right;\">\n",
       "      <th></th>\n",
       "      <th>user_id</th>\n",
       "      <th>time_spent_on_the_page</th>\n",
       "    </tr>\n",
       "  </thead>\n",
       "  <tbody>\n",
       "    <tr>\n",
       "      <th>count</th>\n",
       "      <td>100.000000</td>\n",
       "      <td>100.000000</td>\n",
       "    </tr>\n",
       "    <tr>\n",
       "      <th>mean</th>\n",
       "      <td>546517.000000</td>\n",
       "      <td>5.377800</td>\n",
       "    </tr>\n",
       "    <tr>\n",
       "      <th>std</th>\n",
       "      <td>52.295779</td>\n",
       "      <td>2.378166</td>\n",
       "    </tr>\n",
       "    <tr>\n",
       "      <th>min</th>\n",
       "      <td>546443.000000</td>\n",
       "      <td>0.190000</td>\n",
       "    </tr>\n",
       "    <tr>\n",
       "      <th>25%</th>\n",
       "      <td>546467.750000</td>\n",
       "      <td>3.880000</td>\n",
       "    </tr>\n",
       "    <tr>\n",
       "      <th>50%</th>\n",
       "      <td>546492.500000</td>\n",
       "      <td>5.415000</td>\n",
       "    </tr>\n",
       "    <tr>\n",
       "      <th>75%</th>\n",
       "      <td>546567.250000</td>\n",
       "      <td>7.022500</td>\n",
       "    </tr>\n",
       "    <tr>\n",
       "      <th>max</th>\n",
       "      <td>546592.000000</td>\n",
       "      <td>10.710000</td>\n",
       "    </tr>\n",
       "  </tbody>\n",
       "</table>\n",
       "</div>"
      ],
      "text/plain": [
       "             user_id  time_spent_on_the_page\n",
       "count     100.000000              100.000000\n",
       "mean   546517.000000                5.377800\n",
       "std        52.295779                2.378166\n",
       "min    546443.000000                0.190000\n",
       "25%    546467.750000                3.880000\n",
       "50%    546492.500000                5.415000\n",
       "75%    546567.250000                7.022500\n",
       "max    546592.000000               10.710000"
      ]
     },
     "execution_count": 9,
     "metadata": {},
     "output_type": "execute_result"
    }
   ],
   "source": [
    "df.describe () #Check summary statistics for numerical variables. "
   ]
  },
  {
   "cell_type": "markdown",
   "id": "ecd9b6a5",
   "metadata": {},
   "source": [
    "**Observations:**\n",
    "* The column 'user_id' has no statistical significance.\n",
    "* The mean time users spent on the page is ~5.4 minutes. The maximum time was almost 11 minutes and the lower time was 0.19 minutes. The mean (5.377) and the median (5.415) are really similar, therefore it is probable that the variable has a normal distribution."
   ]
  },
  {
   "cell_type": "code",
   "execution_count": 10,
   "id": "ec59f01a",
   "metadata": {
    "scrolled": true
   },
   "outputs": [
    {
     "data": {
      "text/plain": [
       "100"
      ]
     },
     "execution_count": 10,
     "metadata": {},
     "output_type": "execute_result"
    }
   ],
   "source": [
    "#Check if user_id has unique values\n",
    "user_id = set (df.user_id)\n",
    "len (user_id)"
   ]
  },
  {
   "cell_type": "markdown",
   "id": "2d341ff4",
   "metadata": {},
   "source": [
    "**Observation:** Each user_id correspond to a unique user. There are 100 unique user_id."
   ]
  },
  {
   "cell_type": "code",
   "execution_count": 11,
   "id": "c99ee2a4",
   "metadata": {
    "scrolled": true
   },
   "outputs": [
    {
     "name": "stdout",
     "output_type": "stream",
     "text": [
      "The value count for Group is \n",
      " control      50\n",
      "treatment    50\n",
      "Name: group, dtype: int64\n",
      "\n",
      "The value count for Page is \n",
      " new    50\n",
      "old    50\n",
      "Name: landing_page, dtype: int64\n",
      "\n",
      "The value count for Converted is \n",
      " yes    54\n",
      "no     46\n",
      "Name: converted, dtype: int64\n",
      "\n",
      "The value count for Preferred Language is \n",
      " French     34\n",
      "Spanish    34\n",
      "English    32\n",
      "Name: language_preferred, dtype: int64\n"
     ]
    }
   ],
   "source": [
    "#Check categorical variables.\n",
    "group = df.group.value_counts()\n",
    "page = df.landing_page.value_counts()\n",
    "converted = df.converted.value_counts()\n",
    "language = df.language_preferred.value_counts()\n",
    "print ('The value count for Group is', '\\n', group)\n",
    "print ('')\n",
    "print ('The value count for Page is', '\\n', page)\n",
    "print ('')\n",
    "print ('The value count for Converted is', '\\n', converted)\n",
    "print ('')\n",
    "print ('The value count for Preferred Language is', '\\n', language)"
   ]
  },
  {
   "cell_type": "markdown",
   "id": "e88110c5",
   "metadata": {},
   "source": [
    "**Observations:**\n",
    "* Coincident with the information provided in the problem statement, the colum 'group' has two possible unique values: 'control' and 'treatment'. There are 50 entries for each category. \n",
    "* Also in concordance with the problem statement, the column 'landing_page' has two unique possible values: 'new' and 'old', each of them with 50 entries.\n",
    "* The column 'converted' also has two possible values: 'yes' and 'no'. 54 out of the 100 total users got converted, and 46 weren't. \n",
    "* The column 'language_preferred' can take three possible values: 'French', 'Spanich', and 'English'. 34 out of 100 users preferred the Spanish language, other 34 French, and 32 English. "
   ]
  },
  {
   "cell_type": "markdown",
   "id": "68f3b2c9",
   "metadata": {
    "id": "68f3b2c9"
   },
   "source": [
    "### Univariate Analysis"
   ]
  },
  {
   "cell_type": "code",
   "execution_count": 12,
   "id": "1932d0f3",
   "metadata": {
    "id": "1932d0f3"
   },
   "outputs": [],
   "source": [
    "# function to plot a boxplot and a histogram along the same scale.\n",
    "\n",
    "\n",
    "def histogram_boxplot(data, feature, figsize=(12, 7), kde=False, bins=None):\n",
    "    \"\"\"\n",
    "    Boxplot and histogram combined\n",
    "\n",
    "    data: dataframe\n",
    "    feature: dataframe column\n",
    "    figsize: size of figure (default (12,7))\n",
    "    kde: whether to show the density curve (default False)\n",
    "    bins: number of bins for histogram (default None)\n",
    "    \"\"\"\n",
    "    f2, (ax_box2, ax_hist2) = plt.subplots(\n",
    "        nrows=2,  # Number of rows of the subplot grid= 2\n",
    "        sharex=True,  # x-axis will be shared among all subplots\n",
    "        gridspec_kw={\"height_ratios\": (0.25, 0.75)},\n",
    "        figsize=figsize,\n",
    "    )  # creating the 2 subplots\n",
    "    sns.boxplot(\n",
    "        data=data, x=feature, ax=ax_box2, showmeans=True, color=\"violet\"\n",
    "    )  # boxplot will be created and a star will indicate the mean value of the column\n",
    "    sns.histplot(\n",
    "        data=data, x=feature, kde=kde, ax=ax_hist2, bins=bins, palette=\"winter\"\n",
    "    ) if bins else sns.histplot(\n",
    "        data=data, x=feature, kde=kde, ax=ax_hist2\n",
    "    )  # For histogram\n",
    "    ax_hist2.axvline(\n",
    "        data[feature].mean(), color=\"green\", linestyle=\"--\"\n",
    "    )  # Add mean to the histogram\n",
    "    ax_hist2.axvline(\n",
    "        data[feature].median(), color=\"black\", linestyle=\"-\"\n",
    "    )  # Add median to the histogram"
   ]
  },
  {
   "cell_type": "code",
   "execution_count": 13,
   "id": "2fce6350",
   "metadata": {
    "id": "2fce6350"
   },
   "outputs": [],
   "source": [
    "# function to create labeled barplots\n",
    "\n",
    "\n",
    "def labeled_barplot(data, feature, perc=False, n=None):\n",
    "    \"\"\"\n",
    "    Barplot with percentage at the top\n",
    "\n",
    "    data: dataframe\n",
    "    feature: dataframe column\n",
    "    perc: whether to display percentages instead of count (default is False)\n",
    "    n: displays the top n category levels (default is None, i.e., display all levels)\n",
    "    \"\"\"\n",
    "\n",
    "    total = len(data[feature])  # length of the column\n",
    "    count = data[feature].nunique()\n",
    "    if n is None:\n",
    "        plt.figure(figsize=(count + 1, 5))\n",
    "    else:\n",
    "        plt.figure(figsize=(n + 1, 5))\n",
    "\n",
    "    plt.xticks(rotation=90, fontsize=15)\n",
    "    ax = sns.countplot(data=data, x=feature, palette=\"Paired\", order=data[feature].value_counts().index[:n].sort_values())\n",
    "\n",
    "    for p in ax.patches:\n",
    "        if perc == True:\n",
    "            label = \"{:.1f}%\".format(100 * p.get_height() / total)  # percentage of each class of the category\n",
    "        else:\n",
    "            label = p.get_height()  # count of each level of the category\n",
    "\n",
    "        x = p.get_x() + p.get_width() / 2  # width of the plot\n",
    "        y = p.get_height()      # height of the plot\n",
    "\n",
    "        ax.annotate(label, (x, y), ha=\"center\", va=\"center\", size=12, xytext=(0, 5), textcoords=\"offset points\")  # annotate the percentage\n",
    "\n",
    "    plt.show()  # show the plot"
   ]
  },
  {
   "cell_type": "markdown",
   "id": "282026dd",
   "metadata": {},
   "source": [
    "#### Time spent on the page"
   ]
  },
  {
   "cell_type": "code",
   "execution_count": 14,
   "id": "e6f99481",
   "metadata": {
    "id": "e6f99481",
    "scrolled": false
   },
   "outputs": [
    {
     "data": {
      "image/png": "[encoded data removed]",
      "text/plain": [
       "<Figure size 864x504 with 2 Axes>"
      ]
     },
     "metadata": {
      "needs_background": "light"
     },
     "output_type": "display_data"
    }
   ],
   "source": [
    "histogram_boxplot (data= df, feature= 'time_spent_on_the_page')"
   ]
  },
  {
   "cell_type": "markdown",
   "id": "516d95ed",
   "metadata": {},
   "source": [
    "**Observations:** \n",
    " * The data is continuous and normally distributed. The mean, median and mode are almost the same. \n",
    " * The mean time users spent on the page is about five minutes. Five minutes is also the time spent on the page for most of the users (mode), and the value in the middle of the distribution (median). \n",
    " * Although the data is a little bit left-skewed there are no extreme values or outliers.\n",
    " "
   ]
  },
  {
   "cell_type": "markdown",
   "id": "2e3e9a59",
   "metadata": {},
   "source": [
    "#### Landing Page"
   ]
  },
  {
   "cell_type": "code",
   "execution_count": 15,
   "id": "c89f19e4",
   "metadata": {
    "scrolled": true
   },
   "outputs": [
    {
     "data": {
      "image/png": "[encoded data removed]",
      "text/plain": [
       "<Figure size 216x360 with 1 Axes>"
      ]
     },
     "metadata": {
      "needs_background": "light"
     },
     "output_type": "display_data"
    }
   ],
   "source": [
    "labeled_barplot (data= df, feature= 'landing_page')"
   ]
  },
  {
   "cell_type": "markdown",
   "id": "c7447bea",
   "metadata": {},
   "source": [
    "**Observation:** The data is equally divided between new and old landing page. 50 users navigated the new landing page, and 50 the old one. "
   ]
  },
  {
   "cell_type": "markdown",
   "id": "17e2fb09",
   "metadata": {},
   "source": [
    "#### Group"
   ]
  },
  {
   "cell_type": "code",
   "execution_count": 16,
   "id": "635b1428",
   "metadata": {},
   "outputs": [
    {
     "data": {
      "image/png": "[encoded data removed]",
      "text/plain": [
       "<Figure size 216x360 with 1 Axes>"
      ]
     },
     "metadata": {
      "needs_background": "light"
     },
     "output_type": "display_data"
    }
   ],
   "source": [
    "labeled_barplot (data= df, feature= 'group')"
   ]
  },
  {
   "cell_type": "markdown",
   "id": "536eeea1",
   "metadata": {},
   "source": [
    "**Observation:** The data is equally divided between control and traatment group. 50 users belongs to the first group (control), and 50 to the second group (treatment)."
   ]
  },
  {
   "cell_type": "markdown",
   "id": "9d16bef9",
   "metadata": {},
   "source": [
    "#### Preferred Language"
   ]
  },
  {
   "cell_type": "code",
   "execution_count": 17,
   "id": "031ec051",
   "metadata": {
    "scrolled": true
   },
   "outputs": [
    {
     "data": {
      "image/png": "[encoded data removed]",
      "text/plain": [
       "<Figure size 288x360 with 1 Axes>"
      ]
     },
     "metadata": {
      "needs_background": "light"
     },
     "output_type": "display_data"
    }
   ],
   "source": [
    "labeled_barplot (data= df, feature= 'language_preferred', perc = True)"
   ]
  },
  {
   "cell_type": "markdown",
   "id": "d0b6a9a8",
   "metadata": {},
   "source": [
    "**Observation:** 32% of the users preferred English, 34% French, and 34% Spanish. The users are almost equally divided between the three possible languages."
   ]
  },
  {
   "cell_type": "markdown",
   "id": "b2feb7d4",
   "metadata": {},
   "source": [
    "#### Conversion status"
   ]
  },
  {
   "cell_type": "code",
   "execution_count": 18,
   "id": "b56e79da",
   "metadata": {
    "scrolled": true
   },
   "outputs": [
    {
     "data": {
      "image/png": "[encoded data removed]",
      "text/plain": [
       "<Figure size 216x360 with 1 Axes>"
      ]
     },
     "metadata": {
      "needs_background": "light"
     },
     "output_type": "display_data"
    }
   ],
   "source": [
    "labeled_barplot (data= df, feature= 'converted', perc = True)"
   ]
  },
  {
   "cell_type": "markdown",
   "id": "4691e4e8",
   "metadata": {},
   "source": [
    "**Observation:** Most of the total users got converted (54%). "
   ]
  },
  {
   "cell_type": "markdown",
   "id": "fad2de2f",
   "metadata": {
    "id": "fad2de2f"
   },
   "source": [
    "### Bivariate Analysis"
   ]
  },
  {
   "cell_type": "markdown",
   "id": "3acc75b4",
   "metadata": {},
   "source": [
    "#### Landing Page vs Time Spent on the Page"
   ]
  },
  {
   "cell_type": "code",
   "execution_count": 19,
   "id": "58e9a1d0",
   "metadata": {
    "id": "58e9a1d0",
    "scrolled": false
   },
   "outputs": [
    {
     "data": {
      "image/png": "[encoded data removed]",
      "text/plain": [
       "<Figure size 504x504 with 1 Axes>"
      ]
     },
     "metadata": {
      "needs_background": "light"
     },
     "output_type": "display_data"
    }
   ],
   "source": [
    "plt.figure(figsize = (7, 7))\n",
    "sns.boxplot(data = df, x = 'landing_page', y = 'time_spent_on_the_page', showmeans = True, palette = 'winter');"
   ]
  },
  {
   "cell_type": "markdown",
   "id": "77629be2",
   "metadata": {},
   "source": [
    "**Observations:** \n",
    "* The avarage and mean time users spent on the page is about six minutes for the new page, and four for the old one. \n",
    "* Both the mean and the avarage time users spent on the new page is higher than on the old one. "
   ]
  },
  {
   "cell_type": "markdown",
   "id": "c4688508",
   "metadata": {},
   "source": [
    "#### Landing Page vs Time Spent on the Page, segmented by Conversion status"
   ]
  },
  {
   "cell_type": "code",
   "execution_count": 20,
   "id": "1046ab3c",
   "metadata": {
    "scrolled": true
   },
   "outputs": [
    {
     "data": {
      "image/png": "[encoded data removed]",
      "text/plain": [
       "<Figure size 504x504 with 1 Axes>"
      ]
     },
     "metadata": {
      "needs_background": "light"
     },
     "output_type": "display_data"
    }
   ],
   "source": [
    "plt.figure(figsize = (7, 7))\n",
    "sns.boxplot(data = df, x = 'landing_page', y = 'time_spent_on_the_page', \n",
    "            hue = 'converted', showmeans = True, palette = 'winter');"
   ]
  },
  {
   "cell_type": "markdown",
   "id": "2d3abe0c",
   "metadata": {},
   "source": [
    "**Observations:**\n",
    "* For users that were converted. Although the avarage time spent in the page is a bit higher for the new one, it is about six and a half minutes for both pages. In the case of the new page there are a couple of outliers on the right side of the distribution, and in the case of the old page there is one outlier on each side.\n",
    "* If we compare the avarage time user that were not converted spent in both the new and the old, we can see it is notably less than the time spent by converted users. But, in this case the avarage time for the new and the old page is not that similar. For the new page is more than four minutes, and for the old one is less than four minutes. In the case of users that were not converted, there are not outliers."
   ]
  },
  {
   "cell_type": "markdown",
   "id": "607ac1d3",
   "metadata": {},
   "source": [
    "**Landing Page vs Time Spent on the Page, segmented by Language Preferred**"
   ]
  },
  {
   "cell_type": "code",
   "execution_count": 21,
   "id": "541c9566",
   "metadata": {},
   "outputs": [
    {
     "data": {
      "image/png": "[encoded data removed]",
      "text/plain": [
       "<Figure size 504x504 with 1 Axes>"
      ]
     },
     "metadata": {
      "needs_background": "light"
     },
     "output_type": "display_data"
    }
   ],
   "source": [
    "plt.figure(figsize = (7, 7))\n",
    "sns.boxplot(data = df, x = 'landing_page', y = 'time_spent_on_the_page', \n",
    "            hue = 'language_preferred', showmeans = True, palette = 'winter');"
   ]
  },
  {
   "cell_type": "markdown",
   "id": "20f3268d",
   "metadata": {},
   "source": [
    "**Observations:** \n",
    "* The mean time users spent in the new page is similar among the three preferred languages, it is between six and six and a half minutes. However, the median value doesn't seem to be that similar among the three languages.\n",
    "* In the case of the old page, the mean time users spent in the page is around five minutes for the three posssible languages. \n",
    "* There are a cuple of outliers, one French-speking user of the new page, and one Spanish-speaking user of the old page."
   ]
  },
  {
   "cell_type": "markdown",
   "id": "f5b233df",
   "metadata": {},
   "source": [
    "**Conversion status vs Time Spent on the Page**"
   ]
  },
  {
   "cell_type": "code",
   "execution_count": 22,
   "id": "77ae21d1",
   "metadata": {
    "scrolled": false
   },
   "outputs": [
    {
     "data": {
      "image/png": "[encoded data removed]",
      "text/plain": [
       "<Figure size 504x504 with 1 Axes>"
      ]
     },
     "metadata": {
      "needs_background": "light"
     },
     "output_type": "display_data"
    }
   ],
   "source": [
    "plt.figure(figsize=(7, 7))\n",
    "sns.boxplot(data = df, x = 'converted', y = 'time_spent_on_the_page', showmeans=True, palette='winter');"
   ]
  },
  {
   "cell_type": "markdown",
   "id": "f3ed8c22",
   "metadata": {},
   "source": [
    "**Observations:** \n",
    "* Users that got converted spent in avarage more time on the page than users that didn't convert. \n",
    "* The mean and avarage time converted users spent on the page is about six and a half minutes. \n",
    "* The mean and avarage time users that were not converted spent on the page is four minutes.\n",
    "* There are three outliers on the right side of the distribuition, and one on the left in the case of converted users, and one on the right for not converted."
   ]
  },
  {
   "cell_type": "markdown",
   "id": "02c86050",
   "metadata": {},
   "source": [
    "#### Conversion status vs Preferred Language"
   ]
  },
  {
   "cell_type": "code",
   "execution_count": 23,
   "id": "0185be5d",
   "metadata": {},
   "outputs": [
    {
     "data": {
      "text/html": [
       "<div>\n",
       "<style scoped>\n",
       "    .dataframe tbody tr th:only-of-type {\n",
       "        vertical-align: middle;\n",
       "    }\n",
       "\n",
       "    .dataframe tbody tr th {\n",
       "        vertical-align: top;\n",
       "    }\n",
       "\n",
       "    .dataframe thead th {\n",
       "        text-align: right;\n",
       "    }\n",
       "</style>\n",
       "<table border=\"1\" class=\"dataframe\">\n",
       "  <thead>\n",
       "    <tr style=\"text-align: right;\">\n",
       "      <th>converted</th>\n",
       "      <th>no</th>\n",
       "      <th>yes</th>\n",
       "    </tr>\n",
       "    <tr>\n",
       "      <th>language_preferred</th>\n",
       "      <th></th>\n",
       "      <th></th>\n",
       "    </tr>\n",
       "  </thead>\n",
       "  <tbody>\n",
       "    <tr>\n",
       "      <th>English</th>\n",
       "      <td>11</td>\n",
       "      <td>21</td>\n",
       "    </tr>\n",
       "    <tr>\n",
       "      <th>French</th>\n",
       "      <td>19</td>\n",
       "      <td>15</td>\n",
       "    </tr>\n",
       "    <tr>\n",
       "      <th>Spanish</th>\n",
       "      <td>16</td>\n",
       "      <td>18</td>\n",
       "    </tr>\n",
       "  </tbody>\n",
       "</table>\n",
       "</div>"
      ],
      "text/plain": [
       "converted           no  yes\n",
       "language_preferred         \n",
       "English             11   21\n",
       "French              19   15\n",
       "Spanish             16   18"
      ]
     },
     "execution_count": 23,
     "metadata": {},
     "output_type": "execute_result"
    }
   ],
   "source": [
    "#Crosstab language_preferred and converted to prepare data for plotting.\n",
    "contingency_table = pd.crosstab(index = df.language_preferred, columns = df.converted)  \n",
    "contingency_table"
   ]
  },
  {
   "cell_type": "code",
   "execution_count": 24,
   "id": "5de3c41a",
   "metadata": {
    "scrolled": false
   },
   "outputs": [
    {
     "data": {
      "image/png": "[encoded data removed]",
      "text/plain": [
       "<Figure size 432x288 with 1 Axes>"
      ]
     },
     "metadata": {
      "needs_background": "light"
     },
     "output_type": "display_data"
    }
   ],
   "source": [
    "contingency_table.plot (kind='bar', stacked=True);"
   ]
  },
  {
   "cell_type": "markdown",
   "id": "53df3a55",
   "metadata": {},
   "source": [
    "**Observations:** English is the language perference with a higher number of converted users (21 out of 32). In the second place is Spanish (18 out of 34), and French is the language with less converted users (15 out of 34). "
   ]
  },
  {
   "cell_type": "markdown",
   "id": "634157a9",
   "metadata": {},
   "source": [
    "**Conversion status vs Landing Page**"
   ]
  },
  {
   "cell_type": "code",
   "execution_count": 25,
   "id": "d4d9e297",
   "metadata": {
    "scrolled": false
   },
   "outputs": [
    {
     "data": {
      "text/html": [
       "<div>\n",
       "<style scoped>\n",
       "    .dataframe tbody tr th:only-of-type {\n",
       "        vertical-align: middle;\n",
       "    }\n",
       "\n",
       "    .dataframe tbody tr th {\n",
       "        vertical-align: top;\n",
       "    }\n",
       "\n",
       "    .dataframe thead th {\n",
       "        text-align: right;\n",
       "    }\n",
       "</style>\n",
       "<table border=\"1\" class=\"dataframe\">\n",
       "  <thead>\n",
       "    <tr style=\"text-align: right;\">\n",
       "      <th>converted</th>\n",
       "      <th>no</th>\n",
       "      <th>yes</th>\n",
       "    </tr>\n",
       "    <tr>\n",
       "      <th>landing_page</th>\n",
       "      <th></th>\n",
       "      <th></th>\n",
       "    </tr>\n",
       "  </thead>\n",
       "  <tbody>\n",
       "    <tr>\n",
       "      <th>new</th>\n",
       "      <td>17</td>\n",
       "      <td>33</td>\n",
       "    </tr>\n",
       "    <tr>\n",
       "      <th>old</th>\n",
       "      <td>29</td>\n",
       "      <td>21</td>\n",
       "    </tr>\n",
       "  </tbody>\n",
       "</table>\n",
       "</div>"
      ],
      "text/plain": [
       "converted     no  yes\n",
       "landing_page         \n",
       "new           17   33\n",
       "old           29   21"
      ]
     },
     "execution_count": 25,
     "metadata": {},
     "output_type": "execute_result"
    }
   ],
   "source": [
    "#Crosstab landing_page and converted to prepare data for plotting.\n",
    "plot_conv_land= pd.crosstab(index = df.landing_page, columns = df.converted)\n",
    "plot_conv_land"
   ]
  },
  {
   "cell_type": "code",
   "execution_count": 26,
   "id": "9556b104",
   "metadata": {},
   "outputs": [
    {
     "data": {
      "image/png": "[encoded data removed]",
      "text/plain": [
       "<Figure size 432x288 with 1 Axes>"
      ]
     },
     "metadata": {
      "needs_background": "light"
     },
     "output_type": "display_data"
    }
   ],
   "source": [
    "plot_conv_land.plot (kind='bar', stacked=True);"
   ]
  },
  {
   "cell_type": "markdown",
   "id": "32374ba5",
   "metadata": {},
   "source": [
    "**Observations:** The number of converted users is higher for the new (33 out of 50) than the old page (21 out of 50)."
   ]
  },
  {
   "cell_type": "markdown",
   "id": "367eeed3",
   "metadata": {},
   "source": [
    "**Time Spent on the Page vs Preferred Language**"
   ]
  },
  {
   "cell_type": "code",
   "execution_count": 27,
   "id": "3c067e38",
   "metadata": {
    "scrolled": true
   },
   "outputs": [
    {
     "data": {
      "image/png": "[encoded data removed]",
      "text/plain": [
       "<Figure size 504x504 with 1 Axes>"
      ]
     },
     "metadata": {
      "needs_background": "light"
     },
     "output_type": "display_data"
    }
   ],
   "source": [
    "plt.figure(figsize = (7, 7))\n",
    "sns.boxplot(data = df, x = 'language_preferred', y = 'time_spent_on_the_page', showmeans = True, palette = 'winter');"
   ]
  },
  {
   "cell_type": "markdown",
   "id": "33fd5679",
   "metadata": {},
   "source": [
    "**Observations:** \n",
    "* English, French and Spanish speaking users spent an avarage of a bit less than six minutes on the landing page (both the new and the old). The median time for the three languages is also close to the mean. \n",
    "* The language preferred by the user that spent less time of the entire dataset is Spanish.\n",
    "* English and French present a similar dispersion of the data. The variance in the case of Spanish is less compared to for the other two languages."
   ]
  },
  {
   "cell_type": "markdown",
   "id": "27906576",
   "metadata": {
    "id": "27906576"
   },
   "source": [
    "## 2. Do the users spend more time on the new landing page than the existing landing page?"
   ]
  },
  {
   "cell_type": "markdown",
   "id": "e5fdf0c8",
   "metadata": {
    "id": "e5fdf0c8"
   },
   "source": [
    "### Perform Visual Analysis"
   ]
  },
  {
   "cell_type": "code",
   "execution_count": 28,
   "id": "6eZJa41eg21n",
   "metadata": {
    "id": "6eZJa41eg21n",
    "scrolled": true
   },
   "outputs": [
    {
     "data": {
      "image/png": "[encoded data removed]",
      "text/plain": [
       "<Figure size 504x504 with 1 Axes>"
      ]
     },
     "metadata": {
      "needs_background": "light"
     },
     "output_type": "display_data"
    }
   ],
   "source": [
    "plt.figure(figsize=(7, 7))\n",
    "sns.boxplot(data = df, x = 'landing_page', y = 'time_spent_on_the_page', showmeans=True, palette='winter');"
   ]
  },
  {
   "cell_type": "markdown",
   "id": "c7db2c47",
   "metadata": {},
   "source": [
    "**Observations:** \n",
    "* The avarage time users spent in the page is about six minutes for the new page, and four for the old one. \n",
    "* Both the mean and the avarage time users spent on the new page is higher than on the old one. As this is a sample, we cannot conclude this is also true for the population without performing the corresponding test."
   ]
  },
  {
   "cell_type": "markdown",
   "id": "56b3dafd",
   "metadata": {
    "id": "56b3dafd"
   },
   "source": [
    "\n",
    "### Step 1: Define the null and alternate hypotheses"
   ]
  },
  {
   "cell_type": "markdown",
   "id": "d2ac77ef",
   "metadata": {
    "id": "d2ac77ef"
   },
   "source": [
    "Considering $\\mu_1, \\mu_2$ are mean time users spend on new landing page and mean time users spend on existing landing page respectively.\n",
    "\n",
    "$H_0$: $\\mu_1 = \\mu_2$, The average time users spend on the new and the existing landing page is equal.\n",
    "\n",
    "$H_a$: $\\mu_1 > \\mu_2$, The avarage time users spend on the new landing page is greater than the time users spend in the existing landing page\n",
    "\n"
   ]
  },
  {
   "cell_type": "markdown",
   "id": "c7ee4907",
   "metadata": {
    "id": "c7ee4907"
   },
   "source": [
    "### Step 2: Select Appropriate test"
   ]
  },
  {
   "cell_type": "markdown",
   "id": "2c183cd7",
   "metadata": {
    "id": "2c183cd7"
   },
   "source": [
    "The appropiate test is a **one-tailed two independent sample t-test.**\n",
    "\n",
    "* We use this test because we are interested in comparing the mean of two independ populations, with an unknown population standard deviation. It is a one-tailed test because the alternative hypothesis claims one mean value greater than the other.\n",
    "\n",
    "Assumptions:\n",
    "* Continuous data. Our data is time, therefore it's continuos.\n",
    "* Normaly distributed. In the EDA we can observe the data is normally distributed. Also in the previous visual analysis the box plot shows, although there are some skewers in the time distribuition of the new landing page, the mean and the median are almost equal for both landing pages (but theya re different between the old and new).\n",
    "* Two independent populations. As given in the in the problem statement, samples were taken from two different groups, therefore the two samples are from two independent populations.\n",
    "* Randomly sampled. As given in the in the problem statement, the samples were randomly selected.\n",
    "* Equal/Unequal population standard deviation. We'll check this out before conducting the test. From the visual analysis, given the different size of the boxes, it is possible that the standard deviation of both samples is unequal.\n"
   ]
  },
  {
   "cell_type": "markdown",
   "id": "3f58c9a7",
   "metadata": {
    "id": "3f58c9a7"
   },
   "source": [
    "### Step 3: Decide the significance level"
   ]
  },
  {
   "cell_type": "markdown",
   "id": "92d7d7ee",
   "metadata": {
    "id": "92d7d7ee"
   },
   "source": [
    "* Level of significance: $\\alpha$ = 0.05 (given in the problem statement)"
   ]
  },
  {
   "cell_type": "code",
   "execution_count": 29,
   "id": "61ff9db0",
   "metadata": {},
   "outputs": [],
   "source": [
    "alpha = 0.05"
   ]
  },
  {
   "cell_type": "markdown",
   "id": "5fed2eac",
   "metadata": {
    "id": "5fed2eac"
   },
   "source": [
    "### Step 4: Collect and prepare data"
   ]
  },
  {
   "cell_type": "code",
   "execution_count": 30,
   "id": "f5a59495",
   "metadata": {
    "id": "f5a59495"
   },
   "outputs": [],
   "source": [
    "#Filter data to get the values for time spent in the new page.\n",
    "time_new = df.loc[df.landing_page == 'new'] ['time_spent_on_the_page'] \n",
    "#Filter data to get the values for time spent in the old page.\n",
    "time_old = df.loc[df.landing_page == 'old'] ['time_spent_on_the_page']"
   ]
  },
  {
   "cell_type": "code",
   "execution_count": 31,
   "id": "44f13234",
   "metadata": {
    "scrolled": true
   },
   "outputs": [
    {
     "data": {
      "text/plain": [
       "1.8170310387878263"
      ]
     },
     "execution_count": 31,
     "metadata": {},
     "output_type": "execute_result"
    }
   ],
   "source": [
    "time_new.std() #Check the standard deviation for the new page."
   ]
  },
  {
   "cell_type": "code",
   "execution_count": 32,
   "id": "6987ca9c",
   "metadata": {},
   "outputs": [
    {
     "data": {
      "text/plain": [
       "2.581974849306046"
      ]
     },
     "execution_count": 32,
     "metadata": {},
     "output_type": "execute_result"
    }
   ],
   "source": [
    "time_old.std() #Check the standard deviation for the old page."
   ]
  },
  {
   "cell_type": "markdown",
   "id": "b0e69f6b",
   "metadata": {},
   "source": [
    "**Observation:**\n",
    "The standard deviation of both samples is unequal. As the sample standard deviations are different, the population standard deviations may be assumed to be different. Therfore we'll perform a two-independent sample t-test *for unequal population standard deviation.*"
   ]
  },
  {
   "cell_type": "markdown",
   "id": "f5c5258d",
   "metadata": {
    "id": "f5c5258d"
   },
   "source": [
    "### Step 5: Calculate the p-value"
   ]
  },
  {
   "cell_type": "code",
   "execution_count": 33,
   "id": "fac8594a",
   "metadata": {
    "id": "fac8594a"
   },
   "outputs": [
    {
     "data": {
      "text/plain": [
       "0.000139"
      ]
     },
     "execution_count": 33,
     "metadata": {},
     "output_type": "execute_result"
    }
   ],
   "source": [
    "test_stat1, p_value1= stats.ttest_ind (time_new, time_old, equal_var = False, alternative= 'greater')\n",
    "p_value1 = round (p_value1, 6)\n",
    "p_value1"
   ]
  },
  {
   "cell_type": "markdown",
   "id": "359b12f8",
   "metadata": {
    "id": "359b12f8"
   },
   "source": [
    "### Step 6: Compare the p-value with $\\alpha$"
   ]
  },
  {
   "cell_type": "code",
   "execution_count": 34,
   "id": "7be47289",
   "metadata": {
    "id": "7be47289"
   },
   "outputs": [
    {
     "name": "stdout",
     "output_type": "stream",
     "text": [
      "Given the p_value 0.000139 is less than the level of significance 0.05 . We reject the Null Hypothesis in favor of the Alternative.\n"
     ]
    }
   ],
   "source": [
    "if p_value1 > alpha:\n",
    "    print ('Given the p_value', p_value1, 'is greater than the level of significance', alpha, 'We fail to reject the Null Hypothesis.')\n",
    "else:\n",
    "    print ('Given the p_value', p_value1, 'is less than the level of significance', alpha, '. We reject the Null Hypothesis in favor of the Alternative.')"
   ]
  },
  {
   "cell_type": "markdown",
   "id": "d9affc84",
   "metadata": {
    "id": "d9affc84"
   },
   "source": [
    "### Step 7:  Draw inference"
   ]
  },
  {
   "cell_type": "markdown",
   "id": "6b16dd4b",
   "metadata": {
    "id": "6b16dd4b"
   },
   "source": [
    "* As the p-value (~0.000139) is way less than the level of significance (0.05), we can reject the null hypothesis, therefore the time users spend in the new and the old landing page is not equal. With 95% confidence, we can support the claim that the avarage time users spend in the new lading page is greater than the time users spend in the old one."
   ]
  },
  {
   "cell_type": "markdown",
   "id": "353e9d24",
   "metadata": {
    "id": "353e9d24"
   },
   "source": [
    "## 3. Is the conversion rate (the proportion of users who visit the landing page and get converted) for the new page greater than the conversion rate for the old page? "
   ]
  },
  {
   "cell_type": "markdown",
   "id": "92e877ae",
   "metadata": {
    "id": "e5fdf0c8"
   },
   "source": [
    "### Visual Analysis"
   ]
  },
  {
   "cell_type": "code",
   "execution_count": 35,
   "id": "7a07ccf5",
   "metadata": {},
   "outputs": [
    {
     "data": {
      "image/png": "[encoded data removed]",
      "text/plain": [
       "<Figure size 432x288 with 1 Axes>"
      ]
     },
     "metadata": {
      "needs_background": "light"
     },
     "output_type": "display_data"
    }
   ],
   "source": [
    "plot_conv_land.plot (kind='bar', stacked=True);"
   ]
  },
  {
   "cell_type": "markdown",
   "id": "9dbaa7b2",
   "metadata": {},
   "source": [
    "**Observations:** The number of converted users is higher for the new (33 out of 50) than the old page (21 out of 50). As this is a sample, we cannot conclude this is also true for the population without performing the corresponding test."
   ]
  },
  {
   "cell_type": "markdown",
   "id": "e8f2d5d2",
   "metadata": {
    "id": "56b3dafd"
   },
   "source": [
    "\n",
    "### Null and alternate hypotheses"
   ]
  },
  {
   "cell_type": "markdown",
   "id": "e8215c07",
   "metadata": {},
   "source": [
    "Considering $P_1, P_2$ are the proportion of users that get converted after visiting the new and the old landing respectively.\n",
    "\n",
    "\n",
    "$H_0$: $P_1 = P_2$ , The conversion rate of the new and the existing landing page is equal.\n",
    "\n",
    "$H_a$: $P_1 > P_2$, The convertion rate of the new landing page is greater than the convertion rate of the old landing page\n",
    "\n",
    "\n"
   ]
  },
  {
   "cell_type": "markdown",
   "id": "a7615dde",
   "metadata": {
    "id": "c7ee4907"
   },
   "source": [
    "### Appropriate test"
   ]
  },
  {
   "cell_type": "markdown",
   "id": "9c4fde27",
   "metadata": {},
   "source": [
    "The appropiate test is a **one-tailed two-samples proportion z-test**\n",
    "* We use this test because we want to compare two proportions from two samples. It is a one-tailed test because the alternative hypothesis claims there is one proportion greater than the other.\n",
    "\n",
    "Assumptions:\n",
    "* Randomly sampled. As given in the in the problem statement the samples were randomly selected.\n",
    "* Binomial distribution. As this is a proportion, the distribution can be shaped as binominal (Converted-Not converted).\n",
    "* Normaly distributed. For binomial data the CLT works if np and n(1-p) are greater than or equal to 10. Here n and p represent sample size and sample proportion respectively. As we can see both the sample size and the sample proportion are greater than 10 for the two samples:\n",
    ">$np_1 = 50\\cdot \\frac{33}{50} =33 \\geq 10\\\\\n",
    "n(1-p_1) = 50 \\cdot \\frac{50-33}{50} =17 \\geq 10 \\\\\n",
    "np_2 = 50\\cdot \\frac{21}{50} =21 \\geq 10\\\\\n",
    "n(1-p_2) = 50 \\cdot \\frac{50-21}{50} =29 \\geq 10 $"
   ]
  },
  {
   "cell_type": "markdown",
   "id": "7a0d06df",
   "metadata": {
    "id": "3f58c9a7"
   },
   "source": [
    "### Significance level"
   ]
  },
  {
   "cell_type": "markdown",
   "id": "7d40a335",
   "metadata": {
    "id": "92d7d7ee"
   },
   "source": [
    "* Level of significance: $\\alpha$ = 0.05 (given in the problem statement)"
   ]
  },
  {
   "cell_type": "markdown",
   "id": "c6b124c6",
   "metadata": {
    "id": "5fed2eac"
   },
   "source": [
    "### Data collection and preparation"
   ]
  },
  {
   "cell_type": "code",
   "execution_count": 36,
   "id": "90cb8f49",
   "metadata": {
    "scrolled": true
   },
   "outputs": [
    {
     "data": {
      "text/plain": [
       "50"
      ]
     },
     "execution_count": 36,
     "metadata": {},
     "output_type": "execute_result"
    }
   ],
   "source": [
    "n1 = df.loc[df.landing_page == 'new'] #Check the sameple size for Proportion 1 (New landing page)\n",
    "n1 = n1.shape[0]\n",
    "n1"
   ]
  },
  {
   "cell_type": "code",
   "execution_count": 37,
   "id": "d75bd215",
   "metadata": {},
   "outputs": [
    {
     "data": {
      "text/plain": [
       "33"
      ]
     },
     "execution_count": 37,
     "metadata": {},
     "output_type": "execute_result"
    }
   ],
   "source": [
    "p1 = df.loc[(df.landing_page == 'new') & (df.converted == 'yes')]#Check the count for Proportion 1 (New landing page)\n",
    "p1 = p1.shape[0]\n",
    "p1"
   ]
  },
  {
   "cell_type": "code",
   "execution_count": 38,
   "id": "994262ec",
   "metadata": {},
   "outputs": [
    {
     "data": {
      "text/plain": [
       "50"
      ]
     },
     "execution_count": 38,
     "metadata": {},
     "output_type": "execute_result"
    }
   ],
   "source": [
    "n2 = df.loc[df.landing_page == 'old'] #Check the sameple size for Proportion 2 (Old landing page)\n",
    "n2 = n2.shape[0]\n",
    "n2"
   ]
  },
  {
   "cell_type": "code",
   "execution_count": 39,
   "id": "d34f5113",
   "metadata": {},
   "outputs": [
    {
     "data": {
      "text/plain": [
       "21"
      ]
     },
     "execution_count": 39,
     "metadata": {},
     "output_type": "execute_result"
    }
   ],
   "source": [
    "p2 = df.loc[(df.landing_page == 'old') & (df.converted == 'yes')] #Check the count for Proportion 2 (Old landing page)\n",
    "p2 = p2.shape[0]\n",
    "p2"
   ]
  },
  {
   "cell_type": "code",
   "execution_count": 40,
   "id": "e0c63c68",
   "metadata": {},
   "outputs": [],
   "source": [
    "count = np.array ([p1, p2]) #Create an array with the values from Proportion 1 and Proportion 2 counts.\n",
    "nobs = np.array ([n1, n2]) #Create an array with the number of observations."
   ]
  },
  {
   "cell_type": "markdown",
   "id": "b4e4a93f",
   "metadata": {
    "id": "f5c5258d"
   },
   "source": [
    "### P-value calculation"
   ]
  },
  {
   "cell_type": "code",
   "execution_count": 41,
   "id": "db867cbc",
   "metadata": {},
   "outputs": [],
   "source": [
    "from statsmodels.stats.proportion import proportions_ztest #Import the required function to conduct the test."
   ]
  },
  {
   "cell_type": "code",
   "execution_count": 42,
   "id": "fc13c90f",
   "metadata": {},
   "outputs": [
    {
     "data": {
      "text/plain": [
       "0.008026"
      ]
     },
     "execution_count": 42,
     "metadata": {},
     "output_type": "execute_result"
    }
   ],
   "source": [
    "test_stat2, p_value2 = proportions_ztest (count, nobs, alternative = 'larger')\n",
    "p_value2 = round (p_value2, 6)\n",
    "p_value2"
   ]
  },
  {
   "cell_type": "markdown",
   "id": "337f0816",
   "metadata": {
    "id": "359b12f8"
   },
   "source": [
    "###  P-value and $\\alpha$ comparison"
   ]
  },
  {
   "cell_type": "code",
   "execution_count": 43,
   "id": "bb376439",
   "metadata": {},
   "outputs": [
    {
     "name": "stdout",
     "output_type": "stream",
     "text": [
      "Given the p_value 0.008026 is less than the level of significance 0.05 . We reject the Null Hypothesis in favor of the Alternative.\n"
     ]
    }
   ],
   "source": [
    "if p_value2 > alpha:\n",
    "    print ('Given the p_value', p_value2, 'is greater than the level of significance', alpha, 'We fail to reject the Null Hypothesis.')\n",
    "else:\n",
    "    print ('Given the p_value', p_value2, 'is less than the level of significance', alpha, '. We reject the Null Hypothesis in favor of the Alternative.')"
   ]
  },
  {
   "cell_type": "markdown",
   "id": "667c500e",
   "metadata": {
    "id": "d9affc84"
   },
   "source": [
    "### Inference"
   ]
  },
  {
   "cell_type": "markdown",
   "id": "8949c521",
   "metadata": {},
   "source": [
    "* As the p-value (~0.008026) is way less than the level of significance (0.05), we can reject the null hypothesis, therefore the conversion rate is not the same for both landing pages. With 95% confidence, we can support the claim that the new page does a better job than the old one in converting users."
   ]
  },
  {
   "cell_type": "markdown",
   "id": "d49bfa2d",
   "metadata": {
    "id": "d49bfa2d"
   },
   "source": [
    "## 4. Is the conversion and preferred language are independent or related? "
   ]
  },
  {
   "cell_type": "markdown",
   "id": "d2bdcae5",
   "metadata": {
    "id": "e5fdf0c8"
   },
   "source": [
    "### Visual Analysis"
   ]
  },
  {
   "cell_type": "code",
   "execution_count": 44,
   "id": "0f947097",
   "metadata": {
    "scrolled": false
   },
   "outputs": [
    {
     "data": {
      "image/png": "[encoded data removed]",
      "text/plain": [
       "<Figure size 432x288 with 1 Axes>"
      ]
     },
     "metadata": {
      "needs_background": "light"
     },
     "output_type": "display_data"
    }
   ],
   "source": [
    "contingency_table.plot (kind='bar', stacked=True); "
   ]
  },
  {
   "cell_type": "markdown",
   "id": "ad7a4323",
   "metadata": {},
   "source": [
    "**Observations:** English is the language perference with a higher number of converted users (21 out of 32). In the second place is Spanish (18 out of 34), and French is the language with less converted users (15 out of 34). As this is a sample, we cannot conclude this is also true for the population without performing the corresponding test."
   ]
  },
  {
   "cell_type": "markdown",
   "id": "e21e50b2",
   "metadata": {
    "id": "56b3dafd"
   },
   "source": [
    "\n",
    "### Null and alternate hypotheses"
   ]
  },
  {
   "cell_type": "markdown",
   "id": "18abc1bd",
   "metadata": {},
   "source": [
    "$H_0:$ The Conversion Rate is independent of Preferred Language.\n",
    "\n",
    "\n",
    "$H_a:$ The Conversion Rate depends on Preferred Language."
   ]
  },
  {
   "cell_type": "markdown",
   "id": "2f6feac9",
   "metadata": {
    "id": "c7ee4907"
   },
   "source": [
    "### Appropriate test"
   ]
  },
  {
   "cell_type": "markdown",
   "id": "ccfe9645",
   "metadata": {},
   "source": [
    "The appropiate test is a **Chi-square test of independence**\n",
    "\n",
    "* We use this test because we want to determine whether there is a significant association between two categorical variables (conversion rate and preferred language).\n",
    "\n",
    "\n",
    "Assumptions:\n",
    "* Randomly sampled. As given in the in the problem statement the samples were randomly selected.\n",
    "* Categorical variables. Both variables, Conversion Rate are Preferred Language, are categorical variables.\n",
    "* The expected value of sample observations in each level of the variable is at least 5. We can easily observe this is true at the plot and the contingency table."
   ]
  },
  {
   "cell_type": "markdown",
   "id": "fcfc7585",
   "metadata": {
    "id": "3f58c9a7"
   },
   "source": [
    "### Significance level"
   ]
  },
  {
   "cell_type": "markdown",
   "id": "51a0fb1c",
   "metadata": {
    "id": "92d7d7ee"
   },
   "source": [
    "* Level of significance: $\\alpha$ = 0.05 (given in the problem statement)"
   ]
  },
  {
   "cell_type": "markdown",
   "id": "c7f62c29",
   "metadata": {
    "id": "5fed2eac"
   },
   "source": [
    "### Data collection and preparation"
   ]
  },
  {
   "cell_type": "code",
   "execution_count": 45,
   "id": "e7c578f7",
   "metadata": {},
   "outputs": [
    {
     "data": {
      "text/html": [
       "<div>\n",
       "<style scoped>\n",
       "    .dataframe tbody tr th:only-of-type {\n",
       "        vertical-align: middle;\n",
       "    }\n",
       "\n",
       "    .dataframe tbody tr th {\n",
       "        vertical-align: top;\n",
       "    }\n",
       "\n",
       "    .dataframe thead th {\n",
       "        text-align: right;\n",
       "    }\n",
       "</style>\n",
       "<table border=\"1\" class=\"dataframe\">\n",
       "  <thead>\n",
       "    <tr style=\"text-align: right;\">\n",
       "      <th>converted</th>\n",
       "      <th>no</th>\n",
       "      <th>yes</th>\n",
       "    </tr>\n",
       "    <tr>\n",
       "      <th>language_preferred</th>\n",
       "      <th></th>\n",
       "      <th></th>\n",
       "    </tr>\n",
       "  </thead>\n",
       "  <tbody>\n",
       "    <tr>\n",
       "      <th>English</th>\n",
       "      <td>11</td>\n",
       "      <td>21</td>\n",
       "    </tr>\n",
       "    <tr>\n",
       "      <th>French</th>\n",
       "      <td>19</td>\n",
       "      <td>15</td>\n",
       "    </tr>\n",
       "    <tr>\n",
       "      <th>Spanish</th>\n",
       "      <td>16</td>\n",
       "      <td>18</td>\n",
       "    </tr>\n",
       "  </tbody>\n",
       "</table>\n",
       "</div>"
      ],
      "text/plain": [
       "converted           no  yes\n",
       "language_preferred         \n",
       "English             11   21\n",
       "French              19   15\n",
       "Spanish             16   18"
      ]
     },
     "execution_count": 45,
     "metadata": {},
     "output_type": "execute_result"
    }
   ],
   "source": [
    "#This table was created to perfom the EDA. The code is available in the first section.\n",
    "contingency_table "
   ]
  },
  {
   "cell_type": "markdown",
   "id": "c97d10c7",
   "metadata": {
    "id": "f5c5258d"
   },
   "source": [
    "### P-value calculation"
   ]
  },
  {
   "cell_type": "code",
   "execution_count": 46,
   "id": "634fca45",
   "metadata": {},
   "outputs": [
    {
     "data": {
      "text/plain": [
       "0.212989"
      ]
     },
     "execution_count": 46,
     "metadata": {},
     "output_type": "execute_result"
    }
   ],
   "source": [
    "chi, p_value3, dof, expected = stats.chi2_contingency (contingency_table)\n",
    "p_value3 = round (p_value3, 6)\n",
    "p_value3"
   ]
  },
  {
   "cell_type": "markdown",
   "id": "30a1e461",
   "metadata": {
    "id": "359b12f8"
   },
   "source": [
    "###  P-value and $\\alpha$ comparison"
   ]
  },
  {
   "cell_type": "code",
   "execution_count": 47,
   "id": "723bbc19",
   "metadata": {},
   "outputs": [
    {
     "name": "stdout",
     "output_type": "stream",
     "text": [
      "Given the p_value 0.212989 is greater than the level of significance 0.05 We fail to reject the Null Hypothesis.\n"
     ]
    }
   ],
   "source": [
    "if p_value3 > alpha:\n",
    "    print ('Given the p_value', p_value3, 'is greater than the level of significance', alpha, 'We fail to reject the Null Hypothesis.')\n",
    "else:\n",
    "    print ('Given the p_value', p_value3, 'is less than the level of significance', alpha, '. We reject the Null Hypothesis in favor of the Alternative.')"
   ]
  },
  {
   "cell_type": "markdown",
   "id": "07fd4770",
   "metadata": {
    "id": "d9affc84"
   },
   "source": [
    "### Inference"
   ]
  },
  {
   "cell_type": "markdown",
   "id": "8b7d57bb",
   "metadata": {
    "id": "b0e63f17"
   },
   "source": [
    "* As the p-value (~0.2129) is higher than the level of significance (0.05), we don't have enough evidence to reject the null hypothesis, then the conversion rate is independent of the preferred language. With 95% confidence, we can assume that language preference and conversion rate are not related."
   ]
  },
  {
   "cell_type": "markdown",
   "id": "8d585a90",
   "metadata": {
    "id": "8d585a90"
   },
   "source": [
    "## 5. Is the time spent on the new page same for the different language users? "
   ]
  },
  {
   "cell_type": "markdown",
   "id": "e1692ba5",
   "metadata": {
    "id": "e5fdf0c8"
   },
   "source": [
    "### Visual Analysis"
   ]
  },
  {
   "cell_type": "code",
   "execution_count": 48,
   "id": "5d5c04f5",
   "metadata": {},
   "outputs": [],
   "source": [
    "#Create a dataframe including the three relevant columns for this analysis: landing_page, time_spent_on_the_page, language_preferred.\n",
    "df_anova = df.loc[:, ['landing_page', 'time_spent_on_the_page', 'language_preferred']] "
   ]
  },
  {
   "cell_type": "code",
   "execution_count": 49,
   "id": "e984da07",
   "metadata": {},
   "outputs": [],
   "source": [
    "#Cast the variable landing_page into 'object' type before filtering it by 'new'. \n",
    "#Otherwise the category 'old' remains in the dataset.\n",
    "\n",
    "df_anova.landing_page = df_anova.landing_page.astype('object') "
   ]
  },
  {
   "cell_type": "code",
   "execution_count": 50,
   "id": "42a4869b",
   "metadata": {},
   "outputs": [],
   "source": [
    "df_anova = pd.DataFrame(df_anova.loc [df_anova.landing_page == 'new']) #Filter the values for the 'new' landing page."
   ]
  },
  {
   "cell_type": "code",
   "execution_count": 51,
   "id": "d333747e",
   "metadata": {
    "scrolled": true
   },
   "outputs": [
    {
     "data": {
      "image/png": "[encoded data removed]",
      "text/plain": [
       "<Figure size 504x504 with 1 Axes>"
      ]
     },
     "metadata": {
      "needs_background": "light"
     },
     "output_type": "display_data"
    }
   ],
   "source": [
    "plt.figure(figsize = (7, 7))\n",
    "sns.boxplot(data = df_anova, x = 'landing_page', y = 'time_spent_on_the_page', hue = 'language_preferred', showmeans = True, palette = 'winter');"
   ]
  },
  {
   "cell_type": "markdown",
   "id": "bb14e83f",
   "metadata": {},
   "source": [
    "**Observations:** French and Spanish speaking users spent an avarage about six minutes on the landing page. English speakers an avarage of seven minutes. The median time is not that similar among the three languages. As this is a sample, we cannot conclude this is also true for the population without performing the corresponding test.\n"
   ]
  },
  {
   "cell_type": "markdown",
   "id": "1796792b",
   "metadata": {
    "id": "56b3dafd"
   },
   "source": [
    "\n",
    "### Null and alternate hypotheses"
   ]
  },
  {
   "cell_type": "markdown",
   "id": "31984a24",
   "metadata": {},
   "source": [
    "Considering that $\\mu_1, \\mu_2, \\mu_3$ are the mean time spent in the new page for English, French and Spanish users respectively.\n",
    "\n",
    "$H_0: \\mu_1 = \\mu_2 = \\mu_3$\n",
    "\n",
    "$H_a: $ At least one mean time spent in the new landing page is different from the rest."
   ]
  },
  {
   "cell_type": "markdown",
   "id": "dbb4ecf5",
   "metadata": {
    "id": "c7ee4907"
   },
   "source": [
    "### Appropriate test"
   ]
  },
  {
   "cell_type": "markdown",
   "id": "605bd0e8",
   "metadata": {},
   "source": [
    "The appropriatet test is an **One-way ANOVA test**\n",
    "* We use this test because we want to determine whether the means of more than two independent populations are significally different. It is a one-way test because the dependent variable (time spent on the page) depends on a single factor (preferred language) with various levels (English, French, Spanish).\n",
    "\n",
    "Assumptions:\n",
    "* The populations are normally distributed - We'll verify this assumption using the Shapiro-Wilk’s test.\n",
    "* Population variances are equal - We'll verify this assumption using the Levene's test.\n",
    "* Randomly sampled. As given in the in the problem statement the samples were randomly selected."
   ]
  },
  {
   "cell_type": "markdown",
   "id": "7383bcdf",
   "metadata": {
    "id": "3f58c9a7"
   },
   "source": [
    "### Significance level"
   ]
  },
  {
   "cell_type": "markdown",
   "id": "3ff7d5bc",
   "metadata": {
    "id": "92d7d7ee"
   },
   "source": [
    "* Level of significance: $\\alpha$ = 0.05 (given in the problem statement)"
   ]
  },
  {
   "cell_type": "markdown",
   "id": "93ef1033",
   "metadata": {
    "id": "5fed2eac"
   },
   "source": [
    "### Data collection and preparation"
   ]
  },
  {
   "cell_type": "markdown",
   "id": "925117d5",
   "metadata": {
    "id": "_pFdvUuGC6qu"
   },
   "source": [
    "#### Assumption 1: Normality \n",
    "#### Shapiro-Wilk’s test\n",
    "\n",
    "* $H_0:$ The time users spend in the new page follows a normal distribution\n",
    "\n",
    "* $H_a:$ The time users spend in the new page does not follow a normal distribution"
   ]
  },
  {
   "cell_type": "code",
   "execution_count": 52,
   "id": "16b0a9c2",
   "metadata": {},
   "outputs": [
    {
     "name": "stdout",
     "output_type": "stream",
     "text": [
      "The p-value is 0.8040016293525696\n"
     ]
    }
   ],
   "source": [
    "w, p_value_a = stats.shapiro(df_anova.time_spent_on_the_page) \n",
    "print('The p-value is', p_value_a)"
   ]
  },
  {
   "cell_type": "code",
   "execution_count": 53,
   "id": "82dd0561",
   "metadata": {
    "scrolled": true
   },
   "outputs": [
    {
     "name": "stdout",
     "output_type": "stream",
     "text": [
      "Given the p_value 0.8040016293525696 is greater than the level of significance 0.05 We fail to reject the Null Hypothesis.\n"
     ]
    }
   ],
   "source": [
    "if p_value_a > alpha:\n",
    "    print ('Given the p_value', p_value_a, 'is greater than the level of significance', alpha, 'We fail to reject the Null Hypothesis.')\n",
    "else:\n",
    "    print ('Given the p_value', p_value_a, 'is less than the level of significance', alpha, '. We reject the Null Hypothesis in favor of the Alternative.')"
   ]
  },
  {
   "cell_type": "markdown",
   "id": "806cc990",
   "metadata": {},
   "source": [
    "**Observation:** The p_value is greater than the level of significance, therefore we fail to reject the hypothesis, and we can asume the population follows a normal distribution."
   ]
  },
  {
   "cell_type": "markdown",
   "id": "b4303722",
   "metadata": {
    "id": "RN7l8dkREpFu"
   },
   "source": [
    "#### Assumption 2: Homogeneity of Variance\n",
    "#### Levene’s test\n",
    "\n",
    "* $H_0$: All the population variances are equal\n",
    "* $H_a$: At least one variance is different from the rest"
   ]
  },
  {
   "cell_type": "code",
   "execution_count": 54,
   "id": "1a7f7508",
   "metadata": {
    "scrolled": true
   },
   "outputs": [
    {
     "data": {
      "text/plain": [
       "0.467114"
      ]
     },
     "execution_count": 54,
     "metadata": {},
     "output_type": "execute_result"
    }
   ],
   "source": [
    "statistic, p_value_b = stats.levene( df_anova['time_spent_on_the_page'][df_anova['language_preferred']==\"English\"], \n",
    "                                   df_anova['time_spent_on_the_page'][df_anova['language_preferred']==\"Spanish\"], \n",
    "                                   df_anova['time_spent_on_the_page'][df_anova['language_preferred']==\"French\"])\n",
    "p_value_b = round (p_value_b, 6)\n",
    "p_value_b"
   ]
  },
  {
   "cell_type": "code",
   "execution_count": 55,
   "id": "507d7b33",
   "metadata": {
    "scrolled": true
   },
   "outputs": [
    {
     "name": "stdout",
     "output_type": "stream",
     "text": [
      "Given the p_value 0.467114 is greater than the level of significance 0.05 We fail to reject the Null Hypothesis.\n"
     ]
    }
   ],
   "source": [
    "if p_value_b > alpha:\n",
    "    print ('Given the p_value', p_value_b, 'is greater than the level of significance', alpha, 'We fail to reject the Null Hypothesis.')\n",
    "else:\n",
    "    print ('Given the p_value', p_value_b, 'is less than the level of significance', alpha, '. We reject the Null Hypothesis in favor of the Alternative.')"
   ]
  },
  {
   "cell_type": "markdown",
   "id": "2849cd7f",
   "metadata": {},
   "source": [
    "**Observation:** The p_value is greater than the level of significance, therefore we fail to reject the hypothesis, we can asume the population variances homogeneity."
   ]
  },
  {
   "cell_type": "markdown",
   "id": "69c0625e",
   "metadata": {
    "id": "f5c5258d"
   },
   "source": [
    "### P-value calculation"
   ]
  },
  {
   "cell_type": "markdown",
   "id": "ba985900",
   "metadata": {},
   "source": [
    "#### ANOVA-test"
   ]
  },
  {
   "cell_type": "code",
   "execution_count": 56,
   "id": "12bcfe98",
   "metadata": {},
   "outputs": [
    {
     "data": {
      "text/plain": [
       "0.432041"
      ]
     },
     "execution_count": 56,
     "metadata": {},
     "output_type": "execute_result"
    }
   ],
   "source": [
    "test_stat4, p_value4 = stats.f_oneway(df_anova.loc[df_anova['language_preferred'] == 'English', 'time_spent_on_the_page'],\n",
    "                              df_anova.loc[df_anova['language_preferred'] == 'French', 'time_spent_on_the_page'],\n",
    "                              df_anova.loc[df_anova['language_preferred'] == 'Spanish', 'time_spent_on_the_page'])\n",
    "p_value4 = round (p_value4, 6)\n",
    "p_value4"
   ]
  },
  {
   "cell_type": "markdown",
   "id": "697f66c9",
   "metadata": {
    "id": "359b12f8"
   },
   "source": [
    "###  P-value and $\\alpha$ comparison"
   ]
  },
  {
   "cell_type": "code",
   "execution_count": 57,
   "id": "61d5de96",
   "metadata": {},
   "outputs": [
    {
     "name": "stdout",
     "output_type": "stream",
     "text": [
      "Given the p_value 0.432041 is greater than the level of significance 0.05 We fail to reject the Null Hypothesis.\n"
     ]
    }
   ],
   "source": [
    "if p_value4 > alpha:\n",
    "    print ('Given the p_value', p_value4, 'is greater than the level of significance', alpha, 'We fail to reject the Null Hypothesis.')\n",
    "else:\n",
    "    print ('Given the p_value', p_value4, 'is less than the level of significance', alpha, '. We reject the Null Hypothesis in favor of the Alternative.')"
   ]
  },
  {
   "cell_type": "markdown",
   "id": "fc812a39",
   "metadata": {
    "id": "d9affc84"
   },
   "source": [
    "### Inference"
   ]
  },
  {
   "cell_type": "markdown",
   "id": "398496f1",
   "metadata": {
    "id": "b422f395"
   },
   "source": [
    "* As the p-value (~0.43) is much higher than the level of significance (0.05), we don't have enough evidence to reject the null hypothesis. Therefore there is no enough evidence against the claim that the mean time users spend in the new page is the same for English, Spanish, and French speaking users. With 95% confidence, we can assume that the avarage time users spend in the new page is not different for the different language users. "
   ]
  },
  {
   "cell_type": "markdown",
   "id": "3acbc947",
   "metadata": {
    "id": "3acbc947"
   },
   "source": [
    "## Conclusion and Business Recommendations"
   ]
  },
  {
   "cell_type": "markdown",
   "id": "21fb1063",
   "metadata": {
    "id": "21fb1063"
   },
   "source": [
    "Based on the analysis of the available data, we can conclude that:\n",
    "* The new page is more effective to gather new subscribers. There are different aspects in which the new landing page does a better job:\n",
    "** The new landing page is more engaging for the users. The avarage time users spend on the new landing page is greater than the time users spend in the existing landing page. \n",
    "** The new landing page is more \"catchy\". Users that navigate the new landing page tend to suscribe more. The convertion rate of the new landing page is greater than the convertion rate of the old landing page.\n",
    "* Regarding to language preference, it doesn't seem to have a significant influence over users' behaviour:\n",
    "** The conversion rate is independent of the preferred language.\n",
    "** The mean time users spend in the new page is the same for English, Spanish, and French speaking users. \n",
    "\n",
    "Recommendations:\n",
    "* In order to gather new suscribers in a more effective way, the company needs to replace the old landing page with the new one.\n",
    "* Based on the current data, language preference doesn't show a sifnificant impact over the time users spend on the page and their suscription. The company may not need to target users with a specific language to gather new suscribers.\n",
    "\n",
    "Further Analysis:\n",
    "* If the company is interested in investing more resources on targetting specific language users, more data needs to be collected and analysed. Users from different lingustic and ethnic groups may be interested in consuming different type of news, and information about different topics. Therefore a landing page tailored according to those interest could foster more engagement and greater suscription rates. \n",
    "* The visual exploration of the data (Landing Page vs Time Spent on the Page, segmented by Converted) shows that users that got converted spent more time on the page than users that didn't suscribe, for both the new and the old landing page. For both landing pages, the mean time users that got converted spent in the landing page is about six minutes, and between three and a half and four and a half minutes for those that didn't convert.\n",
    "* If the company is interested in exploring the relationship betwen time spend in the page and conversion. It will be necesary to conduct further analysis to figure out if there is a statistical correlation between this two variables. If time spend on the page and conversion are related, future modifications of the page content should be oriented by this feature. "
   ]
  },
  {
   "cell_type": "code",
   "execution_count": null,
   "id": "7262c8f7",
   "metadata": {},
   "outputs": [],
   "source": []
  }
 ],
 "metadata": {
  "colab": {
   "collapsed_sections": [],
   "name": "ENews_Express_Learner_Notebook[Full Code Version].ipynb",
   "provenance": []
  },
  "kernelspec": {
   "display_name": "Python 3 (ipykernel)",
   "language": "python",
   "name": "python3"
  },
  "language_info": {
   "codemirror_mode": {
    "name": "ipython",
    "version": 3
   },
   "file_extension": ".py",
   "mimetype": "text/x-python",
   "name": "python",
   "nbconvert_exporter": "python",
   "pygments_lexer": "ipython3",
   "version": "3.8.12"
  }
 },
 "nbformat": 4,
 "nbformat_minor": 5
}
